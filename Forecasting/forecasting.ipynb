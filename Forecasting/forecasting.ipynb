{
 "cells": [
  {
   "cell_type": "code",
   "execution_count": 109,
   "id": "045772e0-ded0-4a25-b0c6-32d18f7c30c1",
   "metadata": {},
   "outputs": [],
   "source": [
    "import pandas as pd\n",
    "import numpy as np\n",
    "from sklearn.linear_model import LinearRegression\n",
    "# Doing simple linear regression"
   ]
  },
  {
   "cell_type": "code",
   "execution_count": 111,
   "id": "bbaef723-3af2-4dd2-b82b-89e033500e11",
   "metadata": {},
   "outputs": [],
   "source": [
    "data = pd.read_csv('dummyData.csv')"
   ]
  },
  {
   "cell_type": "code",
   "execution_count": 113,
   "id": "bf0be68f-5fb3-400d-b729-d1894671aa7a",
   "metadata": {},
   "outputs": [
    {
     "data": {
      "text/html": [
       "<div>\n",
       "<style scoped>\n",
       "    .dataframe tbody tr th:only-of-type {\n",
       "        vertical-align: middle;\n",
       "    }\n",
       "\n",
       "    .dataframe tbody tr th {\n",
       "        vertical-align: top;\n",
       "    }\n",
       "\n",
       "    .dataframe thead th {\n",
       "        text-align: right;\n",
       "    }\n",
       "</style>\n",
       "<table border=\"1\" class=\"dataframe\">\n",
       "  <thead>\n",
       "    <tr style=\"text-align: right;\">\n",
       "      <th></th>\n",
       "      <th>Date</th>\n",
       "      <th>Category</th>\n",
       "      <th>Description</th>\n",
       "      <th>Amount</th>\n",
       "    </tr>\n",
       "  </thead>\n",
       "  <tbody>\n",
       "    <tr>\n",
       "      <th>0</th>\n",
       "      <td>18/02/2024</td>\n",
       "      <td>Travel</td>\n",
       "      <td>Credit</td>\n",
       "      <td>$7.97</td>\n",
       "    </tr>\n",
       "    <tr>\n",
       "      <th>1</th>\n",
       "      <td>19/10/2023</td>\n",
       "      <td>Food</td>\n",
       "      <td>Credit</td>\n",
       "      <td>$11.79</td>\n",
       "    </tr>\n",
       "    <tr>\n",
       "      <th>2</th>\n",
       "      <td>29/03/2024</td>\n",
       "      <td>Category</td>\n",
       "      <td>Credit</td>\n",
       "      <td>$51.49</td>\n",
       "    </tr>\n",
       "    <tr>\n",
       "      <th>3</th>\n",
       "      <td>11/05/2023</td>\n",
       "      <td>Entertainment</td>\n",
       "      <td>Debit</td>\n",
       "      <td>$51.23</td>\n",
       "    </tr>\n",
       "    <tr>\n",
       "      <th>4</th>\n",
       "      <td>05/08/2023</td>\n",
       "      <td>Entertainment</td>\n",
       "      <td>Debit</td>\n",
       "      <td>$65.96</td>\n",
       "    </tr>\n",
       "    <tr>\n",
       "      <th>...</th>\n",
       "      <td>...</td>\n",
       "      <td>...</td>\n",
       "      <td>...</td>\n",
       "      <td>...</td>\n",
       "    </tr>\n",
       "    <tr>\n",
       "      <th>994</th>\n",
       "      <td>28/03/2023</td>\n",
       "      <td>Category</td>\n",
       "      <td>Debit</td>\n",
       "      <td>$23.07</td>\n",
       "    </tr>\n",
       "    <tr>\n",
       "      <th>995</th>\n",
       "      <td>02/03/2023</td>\n",
       "      <td>Category</td>\n",
       "      <td>Credit</td>\n",
       "      <td>$53.57</td>\n",
       "    </tr>\n",
       "    <tr>\n",
       "      <th>996</th>\n",
       "      <td>15/04/2024</td>\n",
       "      <td>Travel</td>\n",
       "      <td>Debit</td>\n",
       "      <td>$94.36</td>\n",
       "    </tr>\n",
       "    <tr>\n",
       "      <th>997</th>\n",
       "      <td>23/01/2023</td>\n",
       "      <td>Transport</td>\n",
       "      <td>Debit</td>\n",
       "      <td>$75.48</td>\n",
       "    </tr>\n",
       "    <tr>\n",
       "      <th>998</th>\n",
       "      <td>14/04/2023</td>\n",
       "      <td>Social Activities</td>\n",
       "      <td>Credit</td>\n",
       "      <td>$46.72</td>\n",
       "    </tr>\n",
       "  </tbody>\n",
       "</table>\n",
       "<p>999 rows × 4 columns</p>\n",
       "</div>"
      ],
      "text/plain": [
       "           Date           Category Description  Amount\n",
       "0    18/02/2024             Travel      Credit   $7.97\n",
       "1    19/10/2023               Food      Credit  $11.79\n",
       "2    29/03/2024           Category      Credit  $51.49\n",
       "3    11/05/2023      Entertainment       Debit  $51.23\n",
       "4    05/08/2023      Entertainment       Debit  $65.96\n",
       "..          ...                ...         ...     ...\n",
       "994  28/03/2023           Category       Debit  $23.07\n",
       "995  02/03/2023           Category      Credit  $53.57\n",
       "996  15/04/2024             Travel       Debit  $94.36\n",
       "997  23/01/2023          Transport       Debit  $75.48\n",
       "998  14/04/2023  Social Activities      Credit  $46.72\n",
       "\n",
       "[999 rows x 4 columns]"
      ]
     },
     "execution_count": 113,
     "metadata": {},
     "output_type": "execute_result"
    }
   ],
   "source": [
    "pd.DataFrame(data)"
   ]
  },
  {
   "cell_type": "code",
   "execution_count": 115,
   "id": "f1af5412-c5a6-4bbd-a8b8-0b99e61bbcbf",
   "metadata": {},
   "outputs": [
    {
     "data": {
      "text/plain": [
       "Index(['Date', 'Category', 'Description', 'Amount'], dtype='object')"
      ]
     },
     "execution_count": 115,
     "metadata": {},
     "output_type": "execute_result"
    }
   ],
   "source": [
    "df = pd.DataFrame(data)\n",
    "df.columns"
   ]
  },
  {
   "cell_type": "code",
   "execution_count": 117,
   "id": "8ab28c70-0e43-4b5b-b105-f88ccdd9a601",
   "metadata": {},
   "outputs": [],
   "source": [
    "df['Amount'] = df['Amount'].str.replace('$','')"
   ]
  },
  {
   "cell_type": "code",
   "execution_count": 119,
   "id": "abd06f2e-2171-4fbd-9672-e09a2152e1db",
   "metadata": {},
   "outputs": [
    {
     "data": {
      "text/plain": [
       "0       7.97\n",
       "1      11.79\n",
       "2      51.49\n",
       "3      51.23\n",
       "4      65.96\n",
       "       ...  \n",
       "994    23.07\n",
       "995    53.57\n",
       "996    94.36\n",
       "997    75.48\n",
       "998    46.72\n",
       "Name: Amount, Length: 999, dtype: object"
      ]
     },
     "execution_count": 119,
     "metadata": {},
     "output_type": "execute_result"
    }
   ],
   "source": [
    "df['Amount']"
   ]
  },
  {
   "cell_type": "code",
   "execution_count": 121,
   "id": "b96d5b9a-61bd-4376-818e-a21095feefc5",
   "metadata": {},
   "outputs": [
    {
     "data": {
      "text/html": [
       "<div>\n",
       "<style scoped>\n",
       "    .dataframe tbody tr th:only-of-type {\n",
       "        vertical-align: middle;\n",
       "    }\n",
       "\n",
       "    .dataframe tbody tr th {\n",
       "        vertical-align: top;\n",
       "    }\n",
       "\n",
       "    .dataframe thead th {\n",
       "        text-align: right;\n",
       "    }\n",
       "</style>\n",
       "<table border=\"1\" class=\"dataframe\">\n",
       "  <thead>\n",
       "    <tr style=\"text-align: right;\">\n",
       "      <th></th>\n",
       "      <th>Date</th>\n",
       "      <th>Category</th>\n",
       "      <th>Description</th>\n",
       "      <th>Amount</th>\n",
       "    </tr>\n",
       "  </thead>\n",
       "  <tbody>\n",
       "    <tr>\n",
       "      <th>0</th>\n",
       "      <td>18/02/2024</td>\n",
       "      <td>Travel</td>\n",
       "      <td>Credit</td>\n",
       "      <td>7.97</td>\n",
       "    </tr>\n",
       "    <tr>\n",
       "      <th>1</th>\n",
       "      <td>19/10/2023</td>\n",
       "      <td>Food</td>\n",
       "      <td>Credit</td>\n",
       "      <td>11.79</td>\n",
       "    </tr>\n",
       "    <tr>\n",
       "      <th>2</th>\n",
       "      <td>29/03/2024</td>\n",
       "      <td>Category</td>\n",
       "      <td>Credit</td>\n",
       "      <td>51.49</td>\n",
       "    </tr>\n",
       "    <tr>\n",
       "      <th>3</th>\n",
       "      <td>11/05/2023</td>\n",
       "      <td>Entertainment</td>\n",
       "      <td>Debit</td>\n",
       "      <td>51.23</td>\n",
       "    </tr>\n",
       "    <tr>\n",
       "      <th>4</th>\n",
       "      <td>05/08/2023</td>\n",
       "      <td>Entertainment</td>\n",
       "      <td>Debit</td>\n",
       "      <td>65.96</td>\n",
       "    </tr>\n",
       "    <tr>\n",
       "      <th>...</th>\n",
       "      <td>...</td>\n",
       "      <td>...</td>\n",
       "      <td>...</td>\n",
       "      <td>...</td>\n",
       "    </tr>\n",
       "    <tr>\n",
       "      <th>994</th>\n",
       "      <td>28/03/2023</td>\n",
       "      <td>Category</td>\n",
       "      <td>Debit</td>\n",
       "      <td>23.07</td>\n",
       "    </tr>\n",
       "    <tr>\n",
       "      <th>995</th>\n",
       "      <td>02/03/2023</td>\n",
       "      <td>Category</td>\n",
       "      <td>Credit</td>\n",
       "      <td>53.57</td>\n",
       "    </tr>\n",
       "    <tr>\n",
       "      <th>996</th>\n",
       "      <td>15/04/2024</td>\n",
       "      <td>Travel</td>\n",
       "      <td>Debit</td>\n",
       "      <td>94.36</td>\n",
       "    </tr>\n",
       "    <tr>\n",
       "      <th>997</th>\n",
       "      <td>23/01/2023</td>\n",
       "      <td>Transport</td>\n",
       "      <td>Debit</td>\n",
       "      <td>75.48</td>\n",
       "    </tr>\n",
       "    <tr>\n",
       "      <th>998</th>\n",
       "      <td>14/04/2023</td>\n",
       "      <td>Social Activities</td>\n",
       "      <td>Credit</td>\n",
       "      <td>46.72</td>\n",
       "    </tr>\n",
       "  </tbody>\n",
       "</table>\n",
       "<p>999 rows × 4 columns</p>\n",
       "</div>"
      ],
      "text/plain": [
       "           Date           Category Description Amount\n",
       "0    18/02/2024             Travel      Credit   7.97\n",
       "1    19/10/2023               Food      Credit  11.79\n",
       "2    29/03/2024           Category      Credit  51.49\n",
       "3    11/05/2023      Entertainment       Debit  51.23\n",
       "4    05/08/2023      Entertainment       Debit  65.96\n",
       "..          ...                ...         ...    ...\n",
       "994  28/03/2023           Category       Debit  23.07\n",
       "995  02/03/2023           Category      Credit  53.57\n",
       "996  15/04/2024             Travel       Debit  94.36\n",
       "997  23/01/2023          Transport       Debit  75.48\n",
       "998  14/04/2023  Social Activities      Credit  46.72\n",
       "\n",
       "[999 rows x 4 columns]"
      ]
     },
     "execution_count": 121,
     "metadata": {},
     "output_type": "execute_result"
    }
   ],
   "source": [
    "df"
   ]
  },
  {
   "cell_type": "code",
   "execution_count": 123,
   "id": "14b3546b-e605-48df-9915-9a7a522cfa18",
   "metadata": {},
   "outputs": [
    {
     "data": {
      "text/plain": [
       "1"
      ]
     },
     "execution_count": 123,
     "metadata": {},
     "output_type": "execute_result"
    }
   ],
   "source": [
    "import datetime\n",
    "a = '31/01/2010'\n",
    "datee = datetime.datetime.strptime(a, \"%d/%m/%Y\")\n",
    "\n",
    "datee.month"
   ]
  },
  {
   "cell_type": "code",
   "execution_count": 125,
   "id": "f34a5fc9-b942-4139-9e27-98efe2bd9c05",
   "metadata": {},
   "outputs": [
    {
     "name": "stdout",
     "output_type": "stream",
     "text": [
      "object\n"
     ]
    }
   ],
   "source": [
    "print(df['Date'].dtype)"
   ]
  },
  {
   "cell_type": "code",
   "execution_count": 127,
   "id": "84f4bb99-3296-4920-bd20-a949d9dab4bc",
   "metadata": {},
   "outputs": [
    {
     "name": "stdout",
     "output_type": "stream",
     "text": [
      "      0   1     2\n",
      "0    18  02  2024\n",
      "1    19  10  2023\n",
      "2    29  03  2024\n",
      "3    11  05  2023\n",
      "4    05  08  2023\n",
      "..   ..  ..   ...\n",
      "994  28  03  2023\n",
      "995  02  03  2023\n",
      "996  15  04  2024\n",
      "997  23  01  2023\n",
      "998  14  04  2023\n",
      "\n",
      "[999 rows x 3 columns]\n"
     ]
    }
   ],
   "source": [
    "split_date = df.Date.str.split('/',expand=True)\n",
    "print(split_date)"
   ]
  },
  {
   "cell_type": "code",
   "execution_count": 137,
   "id": "a84dd3ad-e474-4fdf-bcfe-fac2879e6013",
   "metadata": {},
   "outputs": [
    {
     "data": {
      "text/html": [
       "<div>\n",
       "<style scoped>\n",
       "    .dataframe tbody tr th:only-of-type {\n",
       "        vertical-align: middle;\n",
       "    }\n",
       "\n",
       "    .dataframe tbody tr th {\n",
       "        vertical-align: top;\n",
       "    }\n",
       "\n",
       "    .dataframe thead th {\n",
       "        text-align: right;\n",
       "    }\n",
       "</style>\n",
       "<table border=\"1\" class=\"dataframe\">\n",
       "  <thead>\n",
       "    <tr style=\"text-align: right;\">\n",
       "      <th></th>\n",
       "      <th>Date</th>\n",
       "      <th>Category</th>\n",
       "      <th>Description</th>\n",
       "      <th>Amount</th>\n",
       "      <th>Day</th>\n",
       "      <th>Month</th>\n",
       "      <th>Year</th>\n",
       "    </tr>\n",
       "  </thead>\n",
       "  <tbody>\n",
       "    <tr>\n",
       "      <th>0</th>\n",
       "      <td>18/02/2024</td>\n",
       "      <td>Travel</td>\n",
       "      <td>Credit</td>\n",
       "      <td>7.97</td>\n",
       "      <td>18</td>\n",
       "      <td>02</td>\n",
       "      <td>2024</td>\n",
       "    </tr>\n",
       "    <tr>\n",
       "      <th>1</th>\n",
       "      <td>19/10/2023</td>\n",
       "      <td>Food</td>\n",
       "      <td>Credit</td>\n",
       "      <td>11.79</td>\n",
       "      <td>19</td>\n",
       "      <td>10</td>\n",
       "      <td>2023</td>\n",
       "    </tr>\n",
       "    <tr>\n",
       "      <th>2</th>\n",
       "      <td>29/03/2024</td>\n",
       "      <td>Category</td>\n",
       "      <td>Credit</td>\n",
       "      <td>51.49</td>\n",
       "      <td>29</td>\n",
       "      <td>03</td>\n",
       "      <td>2024</td>\n",
       "    </tr>\n",
       "    <tr>\n",
       "      <th>3</th>\n",
       "      <td>11/05/2023</td>\n",
       "      <td>Entertainment</td>\n",
       "      <td>Debit</td>\n",
       "      <td>51.23</td>\n",
       "      <td>11</td>\n",
       "      <td>05</td>\n",
       "      <td>2023</td>\n",
       "    </tr>\n",
       "    <tr>\n",
       "      <th>4</th>\n",
       "      <td>05/08/2023</td>\n",
       "      <td>Entertainment</td>\n",
       "      <td>Debit</td>\n",
       "      <td>65.96</td>\n",
       "      <td>05</td>\n",
       "      <td>08</td>\n",
       "      <td>2023</td>\n",
       "    </tr>\n",
       "    <tr>\n",
       "      <th>...</th>\n",
       "      <td>...</td>\n",
       "      <td>...</td>\n",
       "      <td>...</td>\n",
       "      <td>...</td>\n",
       "      <td>...</td>\n",
       "      <td>...</td>\n",
       "      <td>...</td>\n",
       "    </tr>\n",
       "    <tr>\n",
       "      <th>994</th>\n",
       "      <td>28/03/2023</td>\n",
       "      <td>Category</td>\n",
       "      <td>Debit</td>\n",
       "      <td>23.07</td>\n",
       "      <td>28</td>\n",
       "      <td>03</td>\n",
       "      <td>2023</td>\n",
       "    </tr>\n",
       "    <tr>\n",
       "      <th>995</th>\n",
       "      <td>02/03/2023</td>\n",
       "      <td>Category</td>\n",
       "      <td>Credit</td>\n",
       "      <td>53.57</td>\n",
       "      <td>02</td>\n",
       "      <td>03</td>\n",
       "      <td>2023</td>\n",
       "    </tr>\n",
       "    <tr>\n",
       "      <th>996</th>\n",
       "      <td>15/04/2024</td>\n",
       "      <td>Travel</td>\n",
       "      <td>Debit</td>\n",
       "      <td>94.36</td>\n",
       "      <td>15</td>\n",
       "      <td>04</td>\n",
       "      <td>2024</td>\n",
       "    </tr>\n",
       "    <tr>\n",
       "      <th>997</th>\n",
       "      <td>23/01/2023</td>\n",
       "      <td>Transport</td>\n",
       "      <td>Debit</td>\n",
       "      <td>75.48</td>\n",
       "      <td>23</td>\n",
       "      <td>01</td>\n",
       "      <td>2023</td>\n",
       "    </tr>\n",
       "    <tr>\n",
       "      <th>998</th>\n",
       "      <td>14/04/2023</td>\n",
       "      <td>Social Activities</td>\n",
       "      <td>Credit</td>\n",
       "      <td>46.72</td>\n",
       "      <td>14</td>\n",
       "      <td>04</td>\n",
       "      <td>2023</td>\n",
       "    </tr>\n",
       "  </tbody>\n",
       "</table>\n",
       "<p>999 rows × 7 columns</p>\n",
       "</div>"
      ],
      "text/plain": [
       "           Date           Category Description Amount Day Month  Year\n",
       "0    18/02/2024             Travel      Credit   7.97  18    02  2024\n",
       "1    19/10/2023               Food      Credit  11.79  19    10  2023\n",
       "2    29/03/2024           Category      Credit  51.49  29    03  2024\n",
       "3    11/05/2023      Entertainment       Debit  51.23  11    05  2023\n",
       "4    05/08/2023      Entertainment       Debit  65.96  05    08  2023\n",
       "..          ...                ...         ...    ...  ..   ...   ...\n",
       "994  28/03/2023           Category       Debit  23.07  28    03  2023\n",
       "995  02/03/2023           Category      Credit  53.57  02    03  2023\n",
       "996  15/04/2024             Travel       Debit  94.36  15    04  2024\n",
       "997  23/01/2023          Transport       Debit  75.48  23    01  2023\n",
       "998  14/04/2023  Social Activities      Credit  46.72  14    04  2023\n",
       "\n",
       "[999 rows x 7 columns]"
      ]
     },
     "execution_count": 137,
     "metadata": {},
     "output_type": "execute_result"
    }
   ],
   "source": [
    "df['Day'] = split_date[0]\n",
    "df['Month'] = split_date[1]\n",
    "df['Year'] = split_date[2]\n",
    "df"
   ]
  },
  {
   "cell_type": "code",
   "execution_count": 143,
   "id": "f9f2cedb-526c-42a6-ae54-a24de9800a56",
   "metadata": {},
   "outputs": [
    {
     "name": "stdout",
     "output_type": "stream",
     "text": [
      "           Date Amount Day Month  Year  Category_Category  \\\n",
      "0    18/02/2024   7.97  18    02  2024              False   \n",
      "1    19/10/2023  11.79  19    10  2023              False   \n",
      "2    29/03/2024  51.49  29    03  2024               True   \n",
      "3    11/05/2023  51.23  11    05  2023              False   \n",
      "4    05/08/2023  65.96  05    08  2023              False   \n",
      "..          ...    ...  ..   ...   ...                ...   \n",
      "994  28/03/2023  23.07  28    03  2023               True   \n",
      "995  02/03/2023  53.57  02    03  2023               True   \n",
      "996  15/04/2024  94.36  15    04  2024              False   \n",
      "997  23/01/2023  75.48  23    01  2023              False   \n",
      "998  14/04/2023  46.72  14    04  2023              False   \n",
      "\n",
      "     Category_Entertainment  Category_Food  Category_Gifts & Donations  \\\n",
      "0                     False          False                       False   \n",
      "1                     False           True                       False   \n",
      "2                     False          False                       False   \n",
      "3                      True          False                       False   \n",
      "4                      True          False                       False   \n",
      "..                      ...            ...                         ...   \n",
      "994                   False          False                       False   \n",
      "995                   False          False                       False   \n",
      "996                   False          False                       False   \n",
      "997                   False          False                       False   \n",
      "998                   False          False                       False   \n",
      "\n",
      "     Category_Medical Expenses  Category_Personal Care  \\\n",
      "0                        False                   False   \n",
      "1                        False                   False   \n",
      "2                        False                   False   \n",
      "3                        False                   False   \n",
      "4                        False                   False   \n",
      "..                         ...                     ...   \n",
      "994                      False                   False   \n",
      "995                      False                   False   \n",
      "996                      False                   False   \n",
      "997                      False                   False   \n",
      "998                      False                   False   \n",
      "\n",
      "     Category_Social Activities  Category_Transport  Category_Travel  \\\n",
      "0                         False               False             True   \n",
      "1                         False               False            False   \n",
      "2                         False               False            False   \n",
      "3                         False               False            False   \n",
      "4                         False               False            False   \n",
      "..                          ...                 ...              ...   \n",
      "994                       False               False            False   \n",
      "995                       False               False            False   \n",
      "996                       False               False             True   \n",
      "997                       False                True            False   \n",
      "998                        True               False            False   \n",
      "\n",
      "     Description_Credit  Description_Debit  \n",
      "0                  True              False  \n",
      "1                  True              False  \n",
      "2                  True              False  \n",
      "3                 False               True  \n",
      "4                 False               True  \n",
      "..                  ...                ...  \n",
      "994               False               True  \n",
      "995                True              False  \n",
      "996               False               True  \n",
      "997               False               True  \n",
      "998                True              False  \n",
      "\n",
      "[999 rows x 16 columns]\n"
     ]
    }
   ],
   "source": [
    "one_hot = pd.get_dummies(df, columns = ['Category', 'Description'])\n",
    "\n",
    "print(one_hot)"
   ]
  },
  {
   "cell_type": "code",
   "execution_count": 157,
   "id": "72475ba8-f505-4eb4-8913-93a77243e418",
   "metadata": {},
   "outputs": [],
   "source": [
    "one_hot[\"Category_Category\"] = one_hot[\"Category_Category\"].astype(int)\n",
    "one_hot[\"Category_Entertainment\"] = one_hot[\"Category_Entertainment\"].astype(int)\n",
    "one_hot[\"Category_Food\"] = one_hot[\"Category_Food\"].astype(int)\n",
    "one_hot[\"Category_Gifts & Donations\"] = one_hot[\"Category_Gifts & Donations\"].astype(int)\n",
    "one_hot[\"Category_Medical Expenses\"] = one_hot[\"Category_Medical Expenses\"].astype(int)\n",
    "one_hot[\"Category_Personal Care\"] = one_hot[\"Category_Personal Care\"].astype(int)\n",
    "one_hot[\"Category_Social Activities\"] = one_hot[\"Category_Social Activities\"].astype(int)\n",
    "one_hot[\"Category_Transport\"] = one_hot[\"Category_Transport\"].astype(int)\n",
    "one_hot[\"Category_Travel\"] = one_hot[\"Category_Travel\"].astype(int)\n",
    "one_hot[\"Description_Credit\"] = one_hot[\"Description_Credit\"].astype(int)\n",
    "one_hot[\"Description_Debit\"] = one_hot[\"Description_Debit\"].astype(int)"
   ]
  },
  {
   "cell_type": "code",
   "execution_count": 159,
   "id": "425f6216-0e86-4304-93cd-8c22cb4acb09",
   "metadata": {},
   "outputs": [
    {
     "data": {
      "text/html": [
       "<div>\n",
       "<style scoped>\n",
       "    .dataframe tbody tr th:only-of-type {\n",
       "        vertical-align: middle;\n",
       "    }\n",
       "\n",
       "    .dataframe tbody tr th {\n",
       "        vertical-align: top;\n",
       "    }\n",
       "\n",
       "    .dataframe thead th {\n",
       "        text-align: right;\n",
       "    }\n",
       "</style>\n",
       "<table border=\"1\" class=\"dataframe\">\n",
       "  <thead>\n",
       "    <tr style=\"text-align: right;\">\n",
       "      <th></th>\n",
       "      <th>Date</th>\n",
       "      <th>Amount</th>\n",
       "      <th>Day</th>\n",
       "      <th>Month</th>\n",
       "      <th>Year</th>\n",
       "      <th>Category_Category</th>\n",
       "      <th>Category_Entertainment</th>\n",
       "      <th>Category_Food</th>\n",
       "      <th>Category_Gifts &amp; Donations</th>\n",
       "      <th>Category_Medical Expenses</th>\n",
       "      <th>Category_Personal Care</th>\n",
       "      <th>Category_Social Activities</th>\n",
       "      <th>Category_Transport</th>\n",
       "      <th>Category_Travel</th>\n",
       "      <th>Description_Credit</th>\n",
       "      <th>Description_Debit</th>\n",
       "    </tr>\n",
       "  </thead>\n",
       "  <tbody>\n",
       "    <tr>\n",
       "      <th>0</th>\n",
       "      <td>18/02/2024</td>\n",
       "      <td>7.97</td>\n",
       "      <td>18</td>\n",
       "      <td>02</td>\n",
       "      <td>2024</td>\n",
       "      <td>0</td>\n",
       "      <td>0</td>\n",
       "      <td>0</td>\n",
       "      <td>0</td>\n",
       "      <td>0</td>\n",
       "      <td>0</td>\n",
       "      <td>0</td>\n",
       "      <td>0</td>\n",
       "      <td>1</td>\n",
       "      <td>1</td>\n",
       "      <td>0</td>\n",
       "    </tr>\n",
       "    <tr>\n",
       "      <th>1</th>\n",
       "      <td>19/10/2023</td>\n",
       "      <td>11.79</td>\n",
       "      <td>19</td>\n",
       "      <td>10</td>\n",
       "      <td>2023</td>\n",
       "      <td>0</td>\n",
       "      <td>0</td>\n",
       "      <td>1</td>\n",
       "      <td>0</td>\n",
       "      <td>0</td>\n",
       "      <td>0</td>\n",
       "      <td>0</td>\n",
       "      <td>0</td>\n",
       "      <td>0</td>\n",
       "      <td>1</td>\n",
       "      <td>0</td>\n",
       "    </tr>\n",
       "    <tr>\n",
       "      <th>2</th>\n",
       "      <td>29/03/2024</td>\n",
       "      <td>51.49</td>\n",
       "      <td>29</td>\n",
       "      <td>03</td>\n",
       "      <td>2024</td>\n",
       "      <td>1</td>\n",
       "      <td>0</td>\n",
       "      <td>0</td>\n",
       "      <td>0</td>\n",
       "      <td>0</td>\n",
       "      <td>0</td>\n",
       "      <td>0</td>\n",
       "      <td>0</td>\n",
       "      <td>0</td>\n",
       "      <td>1</td>\n",
       "      <td>0</td>\n",
       "    </tr>\n",
       "    <tr>\n",
       "      <th>3</th>\n",
       "      <td>11/05/2023</td>\n",
       "      <td>51.23</td>\n",
       "      <td>11</td>\n",
       "      <td>05</td>\n",
       "      <td>2023</td>\n",
       "      <td>0</td>\n",
       "      <td>1</td>\n",
       "      <td>0</td>\n",
       "      <td>0</td>\n",
       "      <td>0</td>\n",
       "      <td>0</td>\n",
       "      <td>0</td>\n",
       "      <td>0</td>\n",
       "      <td>0</td>\n",
       "      <td>0</td>\n",
       "      <td>1</td>\n",
       "    </tr>\n",
       "    <tr>\n",
       "      <th>4</th>\n",
       "      <td>05/08/2023</td>\n",
       "      <td>65.96</td>\n",
       "      <td>05</td>\n",
       "      <td>08</td>\n",
       "      <td>2023</td>\n",
       "      <td>0</td>\n",
       "      <td>1</td>\n",
       "      <td>0</td>\n",
       "      <td>0</td>\n",
       "      <td>0</td>\n",
       "      <td>0</td>\n",
       "      <td>0</td>\n",
       "      <td>0</td>\n",
       "      <td>0</td>\n",
       "      <td>0</td>\n",
       "      <td>1</td>\n",
       "    </tr>\n",
       "    <tr>\n",
       "      <th>...</th>\n",
       "      <td>...</td>\n",
       "      <td>...</td>\n",
       "      <td>...</td>\n",
       "      <td>...</td>\n",
       "      <td>...</td>\n",
       "      <td>...</td>\n",
       "      <td>...</td>\n",
       "      <td>...</td>\n",
       "      <td>...</td>\n",
       "      <td>...</td>\n",
       "      <td>...</td>\n",
       "      <td>...</td>\n",
       "      <td>...</td>\n",
       "      <td>...</td>\n",
       "      <td>...</td>\n",
       "      <td>...</td>\n",
       "    </tr>\n",
       "    <tr>\n",
       "      <th>994</th>\n",
       "      <td>28/03/2023</td>\n",
       "      <td>23.07</td>\n",
       "      <td>28</td>\n",
       "      <td>03</td>\n",
       "      <td>2023</td>\n",
       "      <td>1</td>\n",
       "      <td>0</td>\n",
       "      <td>0</td>\n",
       "      <td>0</td>\n",
       "      <td>0</td>\n",
       "      <td>0</td>\n",
       "      <td>0</td>\n",
       "      <td>0</td>\n",
       "      <td>0</td>\n",
       "      <td>0</td>\n",
       "      <td>1</td>\n",
       "    </tr>\n",
       "    <tr>\n",
       "      <th>995</th>\n",
       "      <td>02/03/2023</td>\n",
       "      <td>53.57</td>\n",
       "      <td>02</td>\n",
       "      <td>03</td>\n",
       "      <td>2023</td>\n",
       "      <td>1</td>\n",
       "      <td>0</td>\n",
       "      <td>0</td>\n",
       "      <td>0</td>\n",
       "      <td>0</td>\n",
       "      <td>0</td>\n",
       "      <td>0</td>\n",
       "      <td>0</td>\n",
       "      <td>0</td>\n",
       "      <td>1</td>\n",
       "      <td>0</td>\n",
       "    </tr>\n",
       "    <tr>\n",
       "      <th>996</th>\n",
       "      <td>15/04/2024</td>\n",
       "      <td>94.36</td>\n",
       "      <td>15</td>\n",
       "      <td>04</td>\n",
       "      <td>2024</td>\n",
       "      <td>0</td>\n",
       "      <td>0</td>\n",
       "      <td>0</td>\n",
       "      <td>0</td>\n",
       "      <td>0</td>\n",
       "      <td>0</td>\n",
       "      <td>0</td>\n",
       "      <td>0</td>\n",
       "      <td>1</td>\n",
       "      <td>0</td>\n",
       "      <td>1</td>\n",
       "    </tr>\n",
       "    <tr>\n",
       "      <th>997</th>\n",
       "      <td>23/01/2023</td>\n",
       "      <td>75.48</td>\n",
       "      <td>23</td>\n",
       "      <td>01</td>\n",
       "      <td>2023</td>\n",
       "      <td>0</td>\n",
       "      <td>0</td>\n",
       "      <td>0</td>\n",
       "      <td>0</td>\n",
       "      <td>0</td>\n",
       "      <td>0</td>\n",
       "      <td>0</td>\n",
       "      <td>1</td>\n",
       "      <td>0</td>\n",
       "      <td>0</td>\n",
       "      <td>1</td>\n",
       "    </tr>\n",
       "    <tr>\n",
       "      <th>998</th>\n",
       "      <td>14/04/2023</td>\n",
       "      <td>46.72</td>\n",
       "      <td>14</td>\n",
       "      <td>04</td>\n",
       "      <td>2023</td>\n",
       "      <td>0</td>\n",
       "      <td>0</td>\n",
       "      <td>0</td>\n",
       "      <td>0</td>\n",
       "      <td>0</td>\n",
       "      <td>0</td>\n",
       "      <td>1</td>\n",
       "      <td>0</td>\n",
       "      <td>0</td>\n",
       "      <td>1</td>\n",
       "      <td>0</td>\n",
       "    </tr>\n",
       "  </tbody>\n",
       "</table>\n",
       "<p>999 rows × 16 columns</p>\n",
       "</div>"
      ],
      "text/plain": [
       "           Date Amount Day Month  Year  Category_Category  \\\n",
       "0    18/02/2024   7.97  18    02  2024                  0   \n",
       "1    19/10/2023  11.79  19    10  2023                  0   \n",
       "2    29/03/2024  51.49  29    03  2024                  1   \n",
       "3    11/05/2023  51.23  11    05  2023                  0   \n",
       "4    05/08/2023  65.96  05    08  2023                  0   \n",
       "..          ...    ...  ..   ...   ...                ...   \n",
       "994  28/03/2023  23.07  28    03  2023                  1   \n",
       "995  02/03/2023  53.57  02    03  2023                  1   \n",
       "996  15/04/2024  94.36  15    04  2024                  0   \n",
       "997  23/01/2023  75.48  23    01  2023                  0   \n",
       "998  14/04/2023  46.72  14    04  2023                  0   \n",
       "\n",
       "     Category_Entertainment  Category_Food  Category_Gifts & Donations  \\\n",
       "0                         0              0                           0   \n",
       "1                         0              1                           0   \n",
       "2                         0              0                           0   \n",
       "3                         1              0                           0   \n",
       "4                         1              0                           0   \n",
       "..                      ...            ...                         ...   \n",
       "994                       0              0                           0   \n",
       "995                       0              0                           0   \n",
       "996                       0              0                           0   \n",
       "997                       0              0                           0   \n",
       "998                       0              0                           0   \n",
       "\n",
       "     Category_Medical Expenses  Category_Personal Care  \\\n",
       "0                            0                       0   \n",
       "1                            0                       0   \n",
       "2                            0                       0   \n",
       "3                            0                       0   \n",
       "4                            0                       0   \n",
       "..                         ...                     ...   \n",
       "994                          0                       0   \n",
       "995                          0                       0   \n",
       "996                          0                       0   \n",
       "997                          0                       0   \n",
       "998                          0                       0   \n",
       "\n",
       "     Category_Social Activities  Category_Transport  Category_Travel  \\\n",
       "0                             0                   0                1   \n",
       "1                             0                   0                0   \n",
       "2                             0                   0                0   \n",
       "3                             0                   0                0   \n",
       "4                             0                   0                0   \n",
       "..                          ...                 ...              ...   \n",
       "994                           0                   0                0   \n",
       "995                           0                   0                0   \n",
       "996                           0                   0                1   \n",
       "997                           0                   1                0   \n",
       "998                           1                   0                0   \n",
       "\n",
       "     Description_Credit  Description_Debit  \n",
       "0                     1                  0  \n",
       "1                     1                  0  \n",
       "2                     1                  0  \n",
       "3                     0                  1  \n",
       "4                     0                  1  \n",
       "..                  ...                ...  \n",
       "994                   0                  1  \n",
       "995                   1                  0  \n",
       "996                   0                  1  \n",
       "997                   0                  1  \n",
       "998                   1                  0  \n",
       "\n",
       "[999 rows x 16 columns]"
      ]
     },
     "execution_count": 159,
     "metadata": {},
     "output_type": "execute_result"
    }
   ],
   "source": [
    "one_hot"
   ]
  },
  {
   "cell_type": "code",
   "execution_count": 249,
   "id": "31c86a50-af46-42c0-a6be-cf6cdee97d82",
   "metadata": {},
   "outputs": [
    {
     "name": "stdout",
     "output_type": "stream",
     "text": [
      "52.61782782782782\n"
     ]
    }
   ],
   "source": [
    "import statistics\n",
    "one_hot['Amount'] = one_hot['Amount'].astype(float)\n",
    "print(np.mean(one_hot['Amount']))"
   ]
  },
  {
   "cell_type": "code",
   "execution_count": 281,
   "id": "f24a5518-3751-43fa-8227-6522dd06be64",
   "metadata": {},
   "outputs": [
    {
     "name": "stdout",
     "output_type": "stream",
     "text": [
      "[['18' '02' '2024' ... 1 1 0]\n",
      " ['19' '10' '2023' ... 0 1 0]\n",
      " ['29' '03' '2024' ... 0 1 0]\n",
      " ...\n",
      " ['15' '04' '2024' ... 1 0 1]\n",
      " ['23' '01' '2023' ... 0 0 1]\n",
      " ['14' '04' '2023' ... 0 1 0]]\n"
     ]
    }
   ],
   "source": [
    "from sklearn.model_selection import train_test_split\n",
    "from statsmodels.tsa.statespace.sarimax import SARIMAX\n",
    "# Autoregressive Moving Average ARMA, similar to linear regression\n",
    "# https://builtin.com/data-science/time-series-forecasting-python\n",
    "X = one_hot.iloc[:,2:].values\n",
    "y = one_hot['Amount']\n",
    "\n",
    "print(X)\n"
   ]
  },
  {
   "cell_type": "code",
   "execution_count": 283,
   "id": "4c3a5ee3-c157-4c8e-ba4f-40d747d37547",
   "metadata": {},
   "outputs": [],
   "source": [
    "X_train, X_test, y_train, y_test = train_test_split(X,y,test_size=0.3,random_state=0)"
   ]
  },
  {
   "cell_type": "code",
   "execution_count": 285,
   "id": "3f3d8847-453b-46e4-bd1c-3b7f095ca34b",
   "metadata": {},
   "outputs": [
    {
     "data": {
      "text/plain": [
       "6599.594164343646"
      ]
     },
     "execution_count": 285,
     "metadata": {},
     "output_type": "execute_result"
    }
   ],
   "source": [
    "model = LinearRegression().fit(X_train, y_train)\n",
    "model.intercept_"
   ]
  },
  {
   "cell_type": "code",
   "execution_count": 287,
   "id": "f17049a3-8c96-4ed6-a3a1-a261688e317d",
   "metadata": {},
   "outputs": [
    {
     "data": {
      "text/plain": [
       "array([-0.22644463,  0.20641357, -3.23435059, -2.14444408, -2.92653422,\n",
       "        8.32321846, -3.50297838, -4.37413633, -3.20354765,  4.6531562 ,\n",
       "        0.77124793,  2.40401808,  1.45639052, -1.45639052])"
      ]
     },
     "execution_count": 287,
     "metadata": {},
     "output_type": "execute_result"
    }
   ],
   "source": [
    "model.coef_"
   ]
  },
  {
   "cell_type": "code",
   "execution_count": 289,
   "id": "bf2c4635-52d2-49cf-bf09-27188f17bdec",
   "metadata": {},
   "outputs": [
    {
     "data": {
      "text/plain": [
       "0.033670041769331194"
      ]
     },
     "execution_count": 289,
     "metadata": {},
     "output_type": "execute_result"
    }
   ],
   "source": [
    "model.score(X_train, y_train)"
   ]
  },
  {
   "cell_type": "code",
   "execution_count": 291,
   "id": "e6b142c7-51fd-4a49-8045-752d0ef39ed1",
   "metadata": {},
   "outputs": [
    {
     "data": {
      "text/plain": [
       "-0.04966156425490187"
      ]
     },
     "execution_count": 291,
     "metadata": {},
     "output_type": "execute_result"
    }
   ],
   "source": [
    "model.score(X_test, y_test)"
   ]
  },
  {
   "cell_type": "code",
   "execution_count": 293,
   "id": "18b620b6-d107-4859-9067-c748c2cccb2b",
   "metadata": {},
   "outputs": [],
   "source": [
    "from sklearn.ensemble import GradientBoostingRegressor\n",
    "model = GradientBoostingRegressor(random_state=0).fit(X_train, y_train)\n"
   ]
  },
  {
   "cell_type": "code",
   "execution_count": 295,
   "id": "80b5215d-b903-45ba-9c8b-e57285b5c9d9",
   "metadata": {},
   "outputs": [
    {
     "data": {
      "text/plain": [
       "0.27137128180149606"
      ]
     },
     "execution_count": 295,
     "metadata": {},
     "output_type": "execute_result"
    }
   ],
   "source": [
    "model.score(X_train, y_train)\n"
   ]
  },
  {
   "cell_type": "code",
   "execution_count": 297,
   "id": "8d18d46b-0d18-45d3-8f88-631e2107b4a6",
   "metadata": {},
   "outputs": [
    {
     "data": {
      "text/plain": [
       "-0.1174586409467877"
      ]
     },
     "execution_count": 297,
     "metadata": {},
     "output_type": "execute_result"
    }
   ],
   "source": [
    "model.score(X_test, y_test)"
   ]
  },
  {
   "cell_type": "code",
   "execution_count": 299,
   "id": "d6a573f8-4226-4c34-872f-73fd03f97998",
   "metadata": {},
   "outputs": [],
   "source": [
    "from sklearn.ensemble import RandomForestRegressor\n",
    "model = RandomForestRegressor(random_state=0).fit(X_train, y_train)"
   ]
  },
  {
   "cell_type": "code",
   "execution_count": 301,
   "id": "1af8ebd7-6939-4f23-a329-a1b29a8985c4",
   "metadata": {},
   "outputs": [
    {
     "data": {
      "text/plain": [
       "0.8225552739231801"
      ]
     },
     "execution_count": 301,
     "metadata": {},
     "output_type": "execute_result"
    }
   ],
   "source": [
    "model.score(X_train, y_train)"
   ]
  },
  {
   "cell_type": "code",
   "execution_count": 303,
   "id": "2e1a92b4-b9db-4864-ba9a-ac8c46395898",
   "metadata": {},
   "outputs": [
    {
     "data": {
      "text/plain": [
       "-0.2494067830484339"
      ]
     },
     "execution_count": 303,
     "metadata": {},
     "output_type": "execute_result"
    }
   ],
   "source": [
    "model.score(X_test, y_test)"
   ]
  },
  {
   "cell_type": "code",
   "execution_count": 305,
   "id": "a565884f-dc23-46ec-8847-dcace893fcd9",
   "metadata": {},
   "outputs": [],
   "source": [
    "from sklearn.ensemble import AdaBoostRegressor\n",
    "model = AdaBoostRegressor(random_state=0).fit(X_train, y_train)"
   ]
  },
  {
   "cell_type": "code",
   "execution_count": 307,
   "id": "d12c2616-8db7-4b0b-aee7-e4829a105b91",
   "metadata": {},
   "outputs": [
    {
     "data": {
      "text/plain": [
       "0.049659042130498654"
      ]
     },
     "execution_count": 307,
     "metadata": {},
     "output_type": "execute_result"
    }
   ],
   "source": [
    "model.score(X_train, y_train)"
   ]
  },
  {
   "cell_type": "code",
   "execution_count": 309,
   "id": "2219d986-0a40-430a-9c8a-bc678fd5edfd",
   "metadata": {},
   "outputs": [
    {
     "data": {
      "text/plain": [
       "-0.04834191608681415"
      ]
     },
     "execution_count": 309,
     "metadata": {},
     "output_type": "execute_result"
    }
   ],
   "source": [
    "model.score(X_test, y_test)"
   ]
  },
  {
   "cell_type": "code",
   "execution_count": null,
   "id": "4e3cf037-4c10-4447-bbdc-53a21fcb40d6",
   "metadata": {},
   "outputs": [],
   "source": [
    "#https://realpython.com/train-test-split-python-data/#supervised-machine-learning-with-train_test_split\n",
    "#To do: research more on time-series"
   ]
  },
  {
   "cell_type": "code",
   "execution_count": null,
   "id": "db66aa4b-2bf0-4ec5-9373-d557034daa09",
   "metadata": {},
   "outputs": [],
   "source": []
  },
  {
   "cell_type": "code",
   "execution_count": null,
   "id": "e96fc8ba-88d6-43df-91e9-d9dc671cbf54",
   "metadata": {},
   "outputs": [],
   "source": []
  },
  {
   "cell_type": "code",
   "execution_count": null,
   "id": "ac37bfce-c667-4781-bafd-11cafcf034a7",
   "metadata": {},
   "outputs": [],
   "source": []
  },
  {
   "cell_type": "code",
   "execution_count": null,
   "id": "83fa66f1-a6e0-4b69-b280-454a439d016d",
   "metadata": {},
   "outputs": [],
   "source": []
  }
 ],
 "metadata": {
  "kernelspec": {
   "display_name": "Python 3 (ipykernel)",
   "language": "python",
   "name": "python3"
  },
  "language_info": {
   "codemirror_mode": {
    "name": "ipython",
    "version": 3
   },
   "file_extension": ".py",
   "mimetype": "text/x-python",
   "name": "python",
   "nbconvert_exporter": "python",
   "pygments_lexer": "ipython3",
   "version": "3.11.7"
  }
 },
 "nbformat": 4,
 "nbformat_minor": 5
}
